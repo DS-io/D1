{
  "nbformat": 4,
  "nbformat_minor": 0,
  "metadata": {
    "colab": {
      "provenance": [],
      "include_colab_link": true
    },
    "kernelspec": {
      "name": "python3",
      "display_name": "Python 3"
    },
    "accelerator": "GPU",
    "gpuClass": "standard"
  },
  "cells": [
    {
      "cell_type": "markdown",
      "metadata": {
        "id": "view-in-github",
        "colab_type": "text"
      },
      "source": [
        "<a href=\"https://colab.research.google.com/github/DS-io/Machine-learning/blob/main/Importing_Libraries.ipynb\" target=\"_parent\"><img src=\"https://colab.research.google.com/assets/colab-badge.svg\" alt=\"Open In Colab\"/></a>"
      ]
    },
    {
      "cell_type": "code",
      "metadata": {
        "id": "lkXNth4DH08y"
      },
      "source": [
        "# Initialize matrix\n",
        "list1 = [[1,2,3],[4,5,6],[7,8,9],[10,11,12]]\n",
        "\n",
        "print(\"array:\", list1)\n",
        "rows = len(list1)\n",
        "cols = len(list1[0])\n",
        "\n",
        "print(rows,cols)\n",
        "\n",
        "for j in range(cols):\n",
        "  if j % 2 == 0:\n",
        "    for i in range(rows):\n",
        "      print(list1[i][j])\n",
        "  else:\n",
        "    i = rows - 1\n",
        "    while(i >= 0):\n",
        "      print(list1[i][j])\n",
        "      i = i - 1"
      ],
      "execution_count": null,
      "outputs": []
    },
    {
      "cell_type": "code",
      "metadata": {
        "colab": {
          "base_uri": "https://localhost:8080/"
        },
        "id": "q7iJH1qoIVSS",
        "outputId": "98992be9-d363-4c8d-d611-ac9c6cd97932"
      },
      "source": [
        "import math as m\n",
        "\n",
        "m.gcd(120,45)"
      ],
      "execution_count": null,
      "outputs": [
        {
          "output_type": "execute_result",
          "data": {
            "text/plain": [
              "15"
            ]
          },
          "metadata": {
            "tags": []
          },
          "execution_count": 6
        }
      ]
    },
    {
      "cell_type": "code",
      "source": [],
      "metadata": {
        "id": "qwVgzZDUiB8U"
      },
      "execution_count": null,
      "outputs": []
    }
  ]
}