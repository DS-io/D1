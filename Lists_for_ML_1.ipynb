{
  "nbformat": 4,
  "nbformat_minor": 0,
  "metadata": {
    "colab": {
      "provenance": [],
      "include_colab_link": true
    },
    "kernelspec": {
      "name": "python3",
      "display_name": "Python 3"
    }
  },
  "cells": [
    {
      "cell_type": "markdown",
      "metadata": {
        "id": "view-in-github",
        "colab_type": "text"
      },
      "source": [
        "<a href=\"https://colab.research.google.com/github/DS-io/D1/blob/main/Lists_for_ML_1.ipynb\" target=\"_parent\"><img src=\"https://colab.research.google.com/assets/colab-badge.svg\" alt=\"Open In Colab\"/></a>"
      ]
    },
    {
      "cell_type": "code",
      "metadata": {
        "id": "UgUFNNzHB1PR"
      },
      "source": [
        "#list1 = [\"a\",2,3]\n",
        "#print(list1)"
      ],
      "execution_count": 1,
      "outputs": []
    },
    {
      "cell_type": "code",
      "metadata": {
        "colab": {
          "base_uri": "https://localhost:8080/"
        },
        "id": "t-E6uf3lC0GT",
        "outputId": "5f4228b6-3886-4f4d-e70d-6ee8e1327723"
      },
      "source": [
        "list1 = [i for i in range(10)] #1D list\n",
        "print(list1)"
      ],
      "execution_count": null,
      "outputs": [
        {
          "output_type": "stream",
          "text": [
            "[0, 1, 2, 3, 4, 5, 6, 7, 8, 9]\n"
          ],
          "name": "stdout"
        }
      ]
    },
    {
      "cell_type": "code",
      "metadata": {
        "colab": {
          "base_uri": "https://localhost:8080/"
        },
        "id": "7UT9ptFEDMMW",
        "outputId": "5adc46c7-eb79-49d6-db00-be3d973eebf1"
      },
      "source": [
        "list2 = [[1,2,3] for i in range(10)]\n",
        "print(list2)"
      ],
      "execution_count": null,
      "outputs": [
        {
          "output_type": "stream",
          "text": [
            "[[1, 2, 3], [1, 2, 3], [1, 2, 3], [1, 2, 3], [1, 2, 3], [1, 2, 3], [1, 2, 3], [1, 2, 3], [1, 2, 3], [1, 2, 3]]\n"
          ],
          "name": "stdout"
        }
      ]
    },
    {
      "cell_type": "code",
      "metadata": {
        "colab": {
          "base_uri": "https://localhost:8080/"
        },
        "id": "sp-ZFI98DZY5",
        "outputId": "4ea7da49-24b7-47d2-deb6-99e6dca3724f"
      },
      "source": [
        "list3 = [[j for j in range(5)] for i in range(5)]\n",
        "print(list3)"
      ],
      "execution_count": null,
      "outputs": [
        {
          "output_type": "stream",
          "text": [
            "[[0, 1, 2, 3, 4], [0, 1, 2, 3, 4], [0, 1, 2, 3, 4], [0, 1, 2, 3, 4], [0, 1, 2, 3, 4]]\n"
          ],
          "name": "stdout"
        }
      ]
    },
    {
      "cell_type": "code",
      "metadata": {
        "colab": {
          "base_uri": "https://localhost:8080/"
        },
        "id": "9xtuTw8ODoUZ",
        "outputId": "3168d353-05bc-4e5e-8e49-8daba3b1de28"
      },
      "source": [
        "list4 = [[j*j for j in range(5)] for i in range(5)]\n",
        "print(list4)"
      ],
      "execution_count": null,
      "outputs": [
        {
          "output_type": "stream",
          "text": [
            "[[0, 1, 4, 9, 16], [0, 1, 4, 9, 16], [0, 1, 4, 9, 16], [0, 1, 4, 9, 16], [0, 1, 4, 9, 16]]\n"
          ],
          "name": "stdout"
        }
      ]
    },
    {
      "cell_type": "code",
      "metadata": {
        "colab": {
          "base_uri": "https://localhost:8080/"
        },
        "id": "fPkRtfPsDvjd",
        "outputId": "5f125a37-2a0a-4c14-fb4b-887b1d4bf0dc"
      },
      "source": [
        "list5 = [[j+i for j in range(5)] for i in range(5)]\n",
        "print(list5)"
      ],
      "execution_count": null,
      "outputs": [
        {
          "output_type": "stream",
          "text": [
            "[[0, 1, 2, 3, 4], [1, 2, 3, 4, 5], [2, 3, 4, 5, 6], [3, 4, 5, 6, 7], [4, 5, 6, 7, 8]]\n"
          ],
          "name": "stdout"
        }
      ]
    },
    {
      "cell_type": "code",
      "metadata": {
        "colab": {
          "base_uri": "https://localhost:8080/"
        },
        "id": "prSWxAZ3EGqd",
        "outputId": "d5f7f596-868a-4e9b-b493-a2802f94c6ce"
      },
      "source": [
        "list6 = [[ 3*i+j for j in range(3)] for i in range(3)]\n",
        "print(list6)"
      ],
      "execution_count": null,
      "outputs": [
        {
          "output_type": "stream",
          "text": [
            "[[0, 1, 2], [3, 4, 5], [6, 7, 8]]\n"
          ],
          "name": "stdout"
        }
      ]
    }
  ]
}